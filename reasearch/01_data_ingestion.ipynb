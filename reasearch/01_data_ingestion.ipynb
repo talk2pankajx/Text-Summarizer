{
 "cells": [
  {
   "cell_type": "code",
   "execution_count": 21,
   "metadata": {},
   "outputs": [],
   "source": [
    "import os"
   ]
  },
  {
   "cell_type": "code",
   "execution_count": 22,
   "metadata": {},
   "outputs": [
    {
     "data": {
      "text/plain": [
       "'d:\\\\Text Summarization\\\\Text-Summarizer'"
      ]
     },
     "execution_count": 22,
     "metadata": {},
     "output_type": "execute_result"
    }
   ],
   "source": [
    "%pwd"
   ]
  },
  {
   "cell_type": "code",
   "execution_count": 8,
   "metadata": {},
   "outputs": [],
   "source": [
    "#os.chdir(\"../\")"
   ]
  },
  {
   "cell_type": "code",
   "execution_count": 23,
   "metadata": {},
   "outputs": [
    {
     "data": {
      "text/plain": [
       "'d:\\\\Text Summarization\\\\Text-Summarizer'"
      ]
     },
     "execution_count": 23,
     "metadata": {},
     "output_type": "execute_result"
    }
   ],
   "source": [
    "%pwd"
   ]
  },
  {
   "cell_type": "code",
   "execution_count": 24,
   "metadata": {},
   "outputs": [],
   "source": [
    "from dataclasses import dataclass\n",
    "from pathlib import Path\n",
    "\n",
    "\n",
    "@dataclass(frozen=True)\n",
    "class DataIngestionConfig:\n",
    "    root_dir: Path\n",
    "    source_url: str\n",
    "    local_data_file:Path\n",
    "    unzip_dir:Path\n"
   ]
  },
  {
   "cell_type": "code",
   "execution_count": 25,
   "metadata": {},
   "outputs": [],
   "source": [
    "from Text_Summarizer.constants import *\n",
    "from Text_Summarizer.logging import logger\n",
    "from Text_Summarizer.utils.common import read_yaml_file, create_directories\n",
    "import os\n",
    "\n",
    "\n",
    "class ConfigurationManager:\n",
    "    def __init__(self, config_file_path = CONFIG_PATH,\n",
    "                 params_file_path = PARAMS_PATH):\n",
    "        self.config = read_yaml_file(config_file_path)\n",
    "        self.params = read_yaml_file(params_file_path)\n",
    "        \n",
    "        create_directories([self.config.artifacts_root])\n",
    "    \n",
    "\n",
    "    def get_data_ingestion_config(self)->DataIngestionConfig:\n",
    "        config = self.config.data_ingestion\n",
    "        create_directories([config.root_dir])\n",
    "        \n",
    "        data_ingestion_config = DataIngestionConfig(\n",
    "        root_dir=config.root_dir,\n",
    "        source_url=config.source_url,\n",
    "        local_data_file=config.local_data_file,\n",
    "        unzip_dir=config.unzip_dir,\n",
    "    \n",
    "        \n",
    "    )\n",
    "        return data_ingestion_config\n"
   ]
  },
  {
   "cell_type": "code",
   "execution_count": 26,
   "metadata": {},
   "outputs": [],
   "source": [
    "import os\n",
    "from Text_Summarizer.constants import *\n",
    "from Text_Summarizer.logging import logger\n",
    "import zipfile\n",
    "import urllib.request as request\n",
    "import os\n",
    "from Text_Summarizer.utils.common import get_size\n",
    "\n",
    "\n",
    "class DataIngestion:\n",
    "    def __init__(self, config:DataIngestionConfig):\n",
    "        self.config = config\n",
    "    \n",
    "    \n",
    "    def download_data(self):\n",
    "        if not os.path.exists(self.config.local_data_file):\n",
    "            filename,headers = request.urlretrieve(\n",
    "                url= self.config.source_url,\n",
    "                filename=self.config.local_data_file\n",
    "            )\n",
    "            logger.info(f\"{filename} dowloaded the following info: \\n{headers}\")\n",
    "        else:\n",
    "            logger.info(f\"file already exists of size{get_size(Path(self.config.local_data_file))}\")   \n",
    "            \n",
    "            \n",
    "    def unzip_data(self):\n",
    "        \n",
    "        unzip_path  = self.config.unzip_dir\n",
    "        os.makedirs(unzip_path,exist_ok=True)\n",
    "        with zipfile.ZipFile(self.config.local_data_file,\"r\") as zip_ref:\n",
    "            zip_ref.extractall(self.config.unzip_dir)\n"
   ]
  },
  {
   "cell_type": "code",
   "execution_count": 27,
   "metadata": {},
   "outputs": [
    {
     "name": "stdout",
     "output_type": "stream",
     "text": [
      "[2024-06-28 17:22:16,330] : INFO:  common:  Successfully read yaml file: config\\config.yaml] \n",
      "[2024-06-28 17:22:16,331] : INFO:  common:  Successfully read yaml file: params.yaml] \n",
      "[2024-06-28 17:22:16,334] : INFO:  common:  Successfully created directories: ['artifacts']] \n",
      "[2024-06-28 17:22:16,336] : INFO:  common:  Successfully created directories: ['artifacts/data_ingestion']] \n",
      "[2024-06-28 17:22:23,429] : INFO:  3756739619:  artifacts/data_ingestion/samsundata.zip dowloaded the following info: \n",
      "Connection: close\n",
      "Content-Length: 4194846\n",
      "Cache-Control: max-age=300\n",
      "Content-Security-Policy: default-src 'none'; style-src 'unsafe-inline'; sandbox\n",
      "Content-Type: application/zip\n",
      "ETag: \"1637c4924cab7415e900f4a0fd3d9f47fccc6b12b083dbefef19ca7bcb438bfa\"\n",
      "Strict-Transport-Security: max-age=31536000\n",
      "X-Content-Type-Options: nosniff\n",
      "X-Frame-Options: deny\n",
      "X-XSS-Protection: 1; mode=block\n",
      "X-GitHub-Request-Id: 1793:E13C:23004C:2A8F39:667EA2B7\n",
      "Accept-Ranges: bytes\n",
      "Date: Fri, 28 Jun 2024 11:52:16 GMT\n",
      "Via: 1.1 varnish\n",
      "X-Served-By: cache-maa10235-MAA\n",
      "X-Cache: HIT\n",
      "X-Cache-Hits: 0\n",
      "X-Timer: S1719575536.224665,VS0,VE315\n",
      "Vary: Authorization,Accept-Encoding,Origin\n",
      "Access-Control-Allow-Origin: *\n",
      "Cross-Origin-Resource-Policy: cross-origin\n",
      "X-Fastly-Request-ID: dc97968373dc043c30f62643e47a2634b7ac848a\n",
      "Expires: Fri, 28 Jun 2024 11:57:16 GMT\n",
      "Source-Age: 0\n",
      "\n",
      "] \n"
     ]
    }
   ],
   "source": [
    "try:\n",
    "    config = ConfigurationManager()\n",
    "    data_ingestion_config = config.get_data_ingestion_config()\n",
    "    data_ingestion = DataIngestion(config=data_ingestion_config)\n",
    "    data_ingestion.download_data()\n",
    "    data_ingestion.unzip_data()\n",
    "except Exception as e:\n",
    "    raise e\n"
   ]
  },
  {
   "cell_type": "code",
   "execution_count": null,
   "metadata": {},
   "outputs": [],
   "source": []
  }
 ],
 "metadata": {
  "kernelspec": {
   "display_name": "textS",
   "language": "python",
   "name": "python3"
  },
  "language_info": {
   "codemirror_mode": {
    "name": "ipython",
    "version": 3
   },
   "file_extension": ".py",
   "mimetype": "text/x-python",
   "name": "python",
   "nbconvert_exporter": "python",
   "pygments_lexer": "ipython3",
   "version": "3.12.0"
  }
 },
 "nbformat": 4,
 "nbformat_minor": 2
}
